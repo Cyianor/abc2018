{
 "cells": [
  {
   "cell_type": "markdown",
   "metadata": {},
   "source": [
    "# EP-ABC: Simple example"
   ]
  },
  {
   "cell_type": "markdown",
   "metadata": {},
   "source": [
    "## Setup"
   ]
  },
  {
   "cell_type": "code",
   "execution_count": 9,
   "metadata": {},
   "outputs": [],
   "source": [
    "import numpy as np\n",
    "import scipy.stats as stats\n",
    "\n",
    "%matplotlib inline\n",
    "import matplotlib.pyplot as plt\n",
    "import seaborn as sns\n",
    "\n",
    "sns.set_style()"
   ]
  },
  {
   "cell_type": "markdown",
   "metadata": {},
   "source": [
    "## Toy Example"
   ]
  },
  {
   "cell_type": "code",
   "execution_count": 3,
   "metadata": {},
   "outputs": [],
   "source": [
    "data = np.random.binomial(3, 0.3, size=5)"
   ]
  },
  {
   "cell_type": "markdown",
   "metadata": {},
   "source": [
    "## MCMC-ABC\n",
    "\n",
    "Try to find success probability $p$. Let $N = 5$ be fixed. Use mean and standard deviation as sufficient statistics. Use Euclidean norm as distance function. Use $p \\sim \\mathrm{Beta}(2, 2)$ as a prior. Use $N(p, \\sigma^2)$ as transition kernel."
   ]
  },
  {
   "cell_type": "code",
   "execution_count": 7,
   "metadata": {},
   "outputs": [],
   "source": [
    "D = np.array([np.mean(data), np.std(data)])"
   ]
  },
  {
   "cell_type": "code",
   "execution_count": 23,
   "metadata": {},
   "outputs": [
    {
     "data": {
      "text/plain": [
       "array([0.6, 0.8])"
      ]
     },
     "execution_count": 23,
     "metadata": {},
     "output_type": "execute_result"
    }
   ],
   "source": [
    "D"
   ]
  },
  {
   "cell_type": "markdown",
   "metadata": {},
   "source": [
    "Prior"
   ]
  },
  {
   "cell_type": "code",
   "execution_count": 24,
   "metadata": {},
   "outputs": [
    {
     "data": {
      "image/png": "[encoded data removed]",
      "text/plain": [
       "<Figure size 432x288 with 1 Axes>"
      ]
     },
     "metadata": {},
     "output_type": "display_data"
    }
   ],
   "source": [
    "xs = np.arange(0, 1.01, 0.01)\n",
    "ys = stats.beta(2, 2).pdf(xs)\n",
    "plt.plot(xs, ys);"
   ]
  },
  {
   "cell_type": "markdown",
   "metadata": {},
   "source": [
    "### Algorithm"
   ]
  },
  {
   "cell_type": "markdown",
   "metadata": {},
   "source": [
    "Since $p \\in [0, 1]$ it might be best to do inference on $\\mathrm{logit}(p)$ or $\\Phi^{-1}(p)$ to ensure that the parameter is unbounded."
   ]
  },
  {
   "cell_type": "code",
   "execution_count": null,
   "metadata": {},
   "outputs": [],
   "source": [
    "M = 1000    # Number of iterations\n",
    "eps = 1e-1\n",
    "ps = np.zeros((M + 1,), dtype='float64')\n",
    "\n",
    "ps[0] = stats.beta(2, 2).rvs(1)\n",
    "\n",
    "for m in range(M):\n",
    "    pnew = ps[m] + 0.1 * np.randn()\n",
    "    while pnew < 0 or pnew > 1:\n",
    "        pnew = ps[m] + 0.1 * np.randn()\n",
    "        \n",
    "    data_sim = np.random.binomial(3, ps[m], size=5)\n",
    "    Dsim = np.array([np.mean(data_sim), np.std(data_sim)])\n",
    "    \n",
    "    if np.linalg.norm(D - Dsim) <= eps:\n",
    "        h = min(0, stats.beta(2, 2).logpdf(pnew) + )"
   ]
  }
 ],
 "metadata": {
  "kernelspec": {
   "display_name": "Python 3",
   "language": "python",
   "name": "python3"
  },
  "language_info": {
   "codemirror_mode": {
    "name": "ipython",
    "version": 3
   },
   "file_extension": ".py",
   "mimetype": "text/x-python",
   "name": "python",
   "nbconvert_exporter": "python",
   "pygments_lexer": "ipython3",
   "version": "3.6.5"
  }
 },
 "nbformat": 4,
 "nbformat_minor": 2
}
